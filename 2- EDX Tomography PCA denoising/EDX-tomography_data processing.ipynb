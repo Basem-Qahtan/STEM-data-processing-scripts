{
 "cells": [
  {
   "cell_type": "markdown",
   "id": "0cba4e40",
   "metadata": {},
   "source": [
    "## This script can be found on [GitHub](https://github.com/Basem-Qahtan/STEM-data-processing-scripts) along with other scripts for STEM data processing algorithms.\n",
    "\n",
    "##### -------------------------------------------------------------------------------------------------------------------------------------------------\n",
    "# EDX-Tomography. \n",
    "\n",
    "EDX-Tomography can be used to observe the topography of the elements in the sample. The main challenge is the copper x-ray signal being generated at high tilt ( such as -60  or +60 degrees), one way to overcome this is to calibrate the EDX detectors (in case of 4 EDX detectors, 2 might be turned off as high tilting angles) to reduce the collection of the intense copper x-ray signal. but the Cu signal remains intense and might overlap with other element x-ray signals such as Zn_Ka x-ray peak.\n",
    "\n",
    "The Principal component analysis (PCA) can be used to denoise or eliminate the Cu signal (when applied on all the tilt angles data by stacking them into one variable). this notebook stacks and denoise/remove unwanted signals such as Cu from the datasets. \n",
    "\n",
    "\n",
    "## Author\n",
    "\n",
    "* 15/10/2024 Basem Qahtan - Developed as part of a Ph.D. research project at the Italian Institute of Technology (IIT)/ the University of Genoa (UniGe) in Italy and KAUST university in KSA.\n",
    "\n",
    "## Changes\n",
    "\n",
    "* 01/11/2024 - Added auto cropping and rebinning of EDX map prior to the principal component analysis (PCA) denoising.\n",
    "* 15/11/2024 - Added stacking of total EDX tilt angle signals. \n",
    "* 15/12/2024 - Added auto detection of x-ray lines and plotting of elemental maps by selecting the name of the x-ray line. \n",
    "* 19/12/2024 - Exporting of elemental maps in PNG format (with scale bar) and TIF file without a scale bar (not compressed).\n",
    "\n",
    "\n",
    "## Requirements\n",
    "\n",
    "* HyperSpy 1.7.4 or higher\n",
    "\n",
    "## <a id='top'></a> Contents\n",
    "\n",
    "1. <a href='#dat'>Specimen & Data</a>\n",
    "2. <a href='#PCA_'> Cu_Kβ and Zn_Kα peak deconvolution using PCA decomposition  </a>\n",
    "3. <a href='#load'> Loading ,rebinning and stacking and PCA decomposition of the EDX maps </a>\n",
    "4. <a href='#pca-nmf'> PCA-NMF decomposition of the stacked EDX map</a>\n",
    "5. <a href='#X_ray_lines'> X-ray intensity lines identification and selection for elemental map plotting</a>\n",
    "6. <a href='#element_of_interest'> select an X-ray line of an element to plot the elemental maps:</a>\n",
    "\n",
    "\n",
    "\n",
    "# <a id='dat'></a> 1. Specimen & Data\n",
    "\n",
    "\n",
    "EDX tomography was collected from FeOZn sample using a TEM with 4 EDX detectors (EDX detectors are not turned off at high tilt angles meaning the Cu signal will be intense). Due to the Cu high peak signal it overlaps with the Zn_Ka even after applying PCA denoising on individual tilt angle datasets as shown in figure 1 (left) below.\n",
    "\n",
    "<img src=\"images/PCA EDX denoising.png\" style=\"height:300px;\">\n",
    "Figure 1: PCA denoising of FeOZn sample using 1 tilt angle dataset (right) and all the tilt angle datasets stacked (left).\n",
    "\n",
    "# <a id='PCA_'></a> 2. Cu_Kβ and Zn_Kα peak deconvolution using PCA decomposition \n",
    "\n",
    "\n",
    "However, when applying PCA on the entire tilt angles combined, PCA is able to distinguish the main 4 components of the EDX spectrum as shown in figure 2 . now the EDX signal can be reconstructed with the exclusion of the Cu x-ray signal. This results in the elimination of the Cu signal as shown in figure 1 (right).\n",
    "\n",
    "\n",
    "<img src=\"images/PCA on EDX tomography.png\" style=\"height:500px;\">\n",
    "Figure 2: PCA decompositition of FeOZn sample showing the first 4 components.\n",
    "\n",
    "\n",
    "Figure 3 below shows the elemental map of Zn_Ka signal, the signal is noisy using only the raw datasets. When applying EDX map rebinning by 4, the signal is improved a little. However, when applying PCA after rebining, the signal to noise ratio is greatly imporved.\n",
    "\n",
    "\n",
    "<img src=\"images/PCA EDX tomographty elemental map.png\" style=\"height:300px;\">\n",
    "Figure 3: Zn_Ka elemental map of 1 tilt angle of raw data (right), rebinned data (centre) and rebinned and PCA denoised (left).\n"
   ]
  },
  {
   "cell_type": "markdown",
   "id": "efd12910",
   "metadata": {},
   "source": [
    "# <a id='load'></a> 3. Loading ,rebinning and stacking and PCA decomposition of the EDX maps \n"
   ]
  },
  {
   "cell_type": "code",
   "execution_count": 50,
   "id": "95c4525b",
   "metadata": {},
   "outputs": [
    {
     "name": "stdout",
     "output_type": "stream",
     "text": [
      "\u001b[33;20mWARNING | RosettaSciIO | The file contains only one spectrum stream (rsciio.emd._emd_velox:582)\u001b[0m\n",
      "EDX_Tomo_TiltAngle_ (1)\n",
      "\u001b[33;20mWARNING | RosettaSciIO | The file contains only one spectrum stream (rsciio.emd._emd_velox:582)\u001b[0m\n",
      "EDX_Tomo_TiltAngle_ (2)\n",
      "Stackign\n",
      "[########################################] | 100% Completed | 105.57 ms\n",
      " Done !\n",
      "(2, 128, 128, 1024)\n",
      "2\n",
      "Decomposition info:\n",
      "  normalize_poissonian_noise=True\n",
      "  algorithm=SVD\n",
      "  output_dimension=None\n",
      "  centre=None\n"
     ]
    }
   ],
   "source": [
    "%matplotlib qt\n",
    "\n",
    "import hyperspy.api as hs\n",
    "import numpy as np\n",
    "import matplotlib.pyplot as plt\n",
    "import os\n",
    "import re\n",
    "names=[]\n",
    "\n",
    "\n",
    "# Specify the directory path\n",
    "directory = os.getcwd()\n",
    "\n",
    "# Get a list of files in the directory\n",
    "file_list = os.listdir(directory)\n",
    "\n",
    "# Filter files with the .emd or .bcf extension\n",
    "emd_files = [file for file in file_list if file.endswith(\".emd\") or file.endswith(\".bcf\")]\n",
    "\n",
    "def extract_number(filename):\n",
    "    # Extract the number from the filename using regex\n",
    "    match = re.search(r'\\((\\d+)\\)', filename)\n",
    "    if match:\n",
    "        return int(match.group(1))\n",
    "    return 0  # Return 0 if no number is found\n",
    "\n",
    "# Sort the list using the custom key function\n",
    "sorted_emd_files = sorted(emd_files, key=extract_number)\n",
    "\n",
    "# Print the sorted list to verify\n",
    "#for file in sorted_emd_files:\n",
    "#    print(file)\n",
    "EDX=[]\n",
    "EDX_O=[]\n",
    "\n",
    "# Load and process the .emd files using Hyperspy\n",
    "for file in sorted_emd_files:\n",
    "    SI = []\n",
    "    # Construct the full file path\n",
    "    file_path = os.path.join(directory, file)\n",
    "    SI = hs.load(file_path)\n",
    "\n",
    "    # Split the string based on the '.' delimiter\n",
    "    name = file.split('.')[0]\n",
    "    print(name)\n",
    "    names.append(name)\n",
    "\n",
    "    # Extract HAADF and EDS signals\n",
    "    for i in range(len(SI)):\n",
    "        if SI[i].metadata.General.title == 'HAADF':\n",
    "            HAADF = SI[i]\n",
    "        if SI[i].metadata.General.title in (\"EDS\", \"EDX\") and SI[i].data.ndim == 3:\n",
    "            EDS = SI[i]\n",
    "#---------------------------------------------------\n",
    "    y_dim, x_dim, z_dim = EDS.data.shape\n",
    "    y_hdim, x_hdim,  = HAADF.data.shape\n",
    "\n",
    "        #print(s_dim)\n",
    "        #print(y_dim)\n",
    "        #print(x_dim)\n",
    "        #print(z_dim)\n",
    "\n",
    "#    print(\"EDS shape:             \",EDS.data.shape)\n",
    "\n",
    "#    print(\"\")\n",
    "            # Determine the rebinning factor based on dimensions\n",
    "    if x_dim > 500 and y_dim > 500:\n",
    "                    #crop EDS axes to be divisable by 4\n",
    "                    EDS.crop(axis=0,end=(x_hdim // 4)*4)\n",
    "                    EDS.crop(axis=1,end=(y_dim // 4)*4)\n",
    "\n",
    "                    HAADF.crop(axis=0,end=(x_hdim // 4)*4)\n",
    "                    HAADF.crop(axis=1,end=(y_hdim // 4)*4)\n",
    " #                   print(\"EDS shape adjusted to: \",EDS.data.shape,\" in order to rebin\")\n",
    "\n",
    "                    EDX_rebin_factor = (4, 4, 1)  # Rebin by 4 in x and y dimensions\n",
    "                    HAADF_rebin_factor = (4,4)  # Rebin by 4 in x and y dimensions\n",
    "\n",
    "#                    print(\"rebinning EDX dimensions by 4\")\n",
    "\n",
    "\n",
    "    elif x_dim > 300 and y_dim > 300:\n",
    "                    #crop EDS axes to be divisable by 2\n",
    "                    EDS.crop(axis=0,end=(x_dim // 2)*2)\n",
    "                    EDS.crop(axis=1,end=(y_dim // 2)*2)\n",
    "                    \n",
    "                    HAADF.crop(axis=0,end=(x_hdim // 2)*2)\n",
    "                    HAADF.crop(axis=1,end=(y_hdim // 2)*2)\n",
    "\n",
    "\n",
    "                    EDX_rebin_factor = (2, 2, 1)  # Rebin by 2 in x and y dimensions\n",
    "                    HAADF_rebin_factor = (2,2)  # Rebin by 4 in x and y dimensions\n",
    "\n",
    "\n",
    "\n",
    "    else:\n",
    "                    EDX_rebin_factor = (1, 1, 1)  # No rebinning\n",
    "                    HAADF_rebin_factor = (1,1)  # Rebin by 4 in x and y dimensions\n",
    "\n",
    "\n",
    "    # Rebin the EDS map\n",
    "    EDS = EDS.rebin(scale=EDX_rebin_factor)\n",
    "    HAADF = HAADF.rebin(scale=HAADF_rebin_factor)\n",
    "\n",
    "\n",
    "            # Determine the rebinning factor for the x-ray energy axes\n",
    "    if z_dim >= 4000:\n",
    "                    EDX_rebin_factor = (1,1, 4)  # Rebin by 4 in x and y dimensions\n",
    "                  #  print(\"x-ray energy axes rebinned by 4\")\n",
    "    elif 4000>z_dim > 2000:\n",
    "                    EDX_rebin_factor = (1,1, 2)  # Rebin by 2 in x and y dimensions\n",
    "                  #  print(\"x-ray energy axes rebinned by 2\")\n",
    "\n",
    "    else:\n",
    "                    EDX_rebin_factor = (1, 1,1)  # No rebinning\n",
    "\n",
    "    EDS =    EDS.rebin(scale=EDX_rebin_factor)\n",
    "\n",
    "#    print(\"new EDS shape:         \",EDS.data.shape)\n",
    "#    print(\"new HAADF shape:         \",HAADF.data.shape)\n",
    "\n",
    "    EDX.append(EDS)\n",
    "\n",
    "print(\"Stackign\")\n",
    "stacked_EDX = hs.stack(EDX)\n",
    "print(\" Done !\")\n",
    "\n",
    "s_dim,y_dim, x_dim, z_dim = stacked_EDX.data.shape\n",
    "print(stacked_EDX.data.shape)\n",
    "#--------------------------------------------\n",
    "\n",
    "\n",
    "\n",
    "stacked_EDX.change_dtype(\"float32\")\n",
    " \n",
    "stacked_EDX.decomposition(normalize_poissonian_noise=True)\n"
   ]
  },
  {
   "cell_type": "markdown",
   "id": "044e5b61-de9e-4bc2-a15f-b69d9a41bd1f",
   "metadata": {},
   "source": [
    "#### When plotting the signal below: if you cant use the keyboard arrows to navigate through the signal or navigation axes, try to drag the small red square (in the top left corner of the EDX map) by holding the right click on the mouse "
   ]
  },
  {
   "cell_type": "code",
   "execution_count": 2,
   "id": "0c96e6b8",
   "metadata": {},
   "outputs": [
    {
     "data": {
      "application/vnd.jupyter.widget-view+json": {
       "model_id": "81c0d0e7c6d940d896110a1ed6ed981e",
       "version_major": 2,
       "version_minor": 0
      },
      "text/plain": [
       "VBox(children=(HBox(children=(Label(value='x', layout=Layout(width='15%')), IntSlider(value=0, description='in…"
      ]
     },
     "metadata": {},
     "output_type": "display_data"
    }
   ],
   "source": [
    "stacked_EDX.plot(True)"
   ]
  },
  {
   "cell_type": "markdown",
   "id": "90779f78",
   "metadata": {},
   "source": [
    "# <a id='pca-nmf'></a> 4. PCA-NMF decomposition of the stacked EDX map\n"
   ]
  },
  {
   "cell_type": "markdown",
   "id": "7c5bc0c5",
   "metadata": {},
   "source": [
    "### plot the loadings and factors of the components along with the scree plot:\n",
    "\n",
    "#### After plotting the decomposition results below: if you cant navigate between the components using the keyboard arrows, use the slider bar opened in 3rd smal window or in the notebook itself."
   ]
  },
  {
   "cell_type": "code",
   "execution_count": 51,
   "id": "b4229301",
   "metadata": {},
   "outputs": [
    {
     "data": {
      "application/vnd.jupyter.widget-view+json": {
       "model_id": "b1ffa044dd414ccf942c66ed93e6d8f7",
       "version_major": 2,
       "version_minor": 0
      },
      "text/plain": [
       "VBox(children=(HBox(children=(Label(value='stack_element', layout=Layout(width='15%')), IntSlider(value=0, des…"
      ]
     },
     "metadata": {},
     "output_type": "display_data"
    },
    {
     "data": {
      "text/plain": [
       "<Axes: title={'center': 'Stack of EDS\\nPCA Scree Plot'}, xlabel='Principal component index', ylabel='Proportion of variance'>"
      ]
     },
     "execution_count": 51,
     "metadata": {},
     "output_type": "execute_result"
    }
   ],
   "source": [
    "stacked_EDX.plot_decomposition_results()\n",
    "stacked_EDX.plot_explained_variance_ratio()"
   ]
  },
  {
   "cell_type": "markdown",
   "id": "60533c85",
   "metadata": {},
   "source": [
    "### Select the number of the 1st components to be used in Non-negative matrix factorization (NMF), in this example 5 components from PCA output are selected:"
   ]
  },
  {
   "cell_type": "code",
   "execution_count": 52,
   "id": "1ab23ff9",
   "metadata": {},
   "outputs": [
    {
     "name": "stdout",
     "output_type": "stream",
     "text": [
      "Decomposition info:\n",
      "  normalize_poissonian_noise=True\n",
      "  algorithm=NMF\n",
      "  output_dimension=5\n",
      "  centre=None\n",
      "scikit-learn estimator:\n",
      "NMF(n_components=5)\n"
     ]
    },
    {
     "data": {
      "application/vnd.jupyter.widget-view+json": {
       "model_id": "a884cf966c8d4001b8c33bfb47745851",
       "version_major": 2,
       "version_minor": 0
      },
      "text/plain": [
       "VBox(children=(HBox(children=(Label(value='stack_element', layout=Layout(width='15%')), IntSlider(value=0, des…"
      ]
     },
     "metadata": {},
     "output_type": "display_data"
    }
   ],
   "source": [
    "stacked_EDX.decomposition(algorithm='NMF', output_dimension=5)\n",
    "stacked_EDX.plot_decomposition_results()"
   ]
  },
  {
   "cell_type": "markdown",
   "id": "258e9e1d",
   "metadata": {},
   "source": [
    "### Reconstruct the EDX tomography datasets by selecting the coomponents from NMF \n",
    "#### If you want to use the first 4 components you can type:\n",
    "###### stacked_EDX = stacked_EDX.get_decomposition_model(4)\n",
    "#### If you want to use the 1st, 2nd and 4th components you can type:\n",
    "###### stacked_EDX = stacked_EDX.get_decomposition_model([0,1,3])   >>>> numbering starts from 0"
   ]
  },
  {
   "cell_type": "code",
   "execution_count": 53,
   "id": "8fdd2ebc",
   "metadata": {},
   "outputs": [],
   "source": [
    "stacked_EDX = stacked_EDX.get_decomposition_model([0,2,3,4]) #<<<< select the components here"
   ]
  },
  {
   "cell_type": "markdown",
   "id": "0984c14c-9656-4338-800d-2a7395630fdb",
   "metadata": {},
   "source": [
    "#### Plot the denoised EDX spectrum "
   ]
  },
  {
   "cell_type": "code",
   "execution_count": 54,
   "id": "8ade4171",
   "metadata": {},
   "outputs": [
    {
     "data": {
      "application/vnd.jupyter.widget-view+json": {
       "model_id": "2bbddfa2584340c0871c0a074340016c",
       "version_major": 2,
       "version_minor": 0
      },
      "text/plain": [
       "VBox(children=(HBox(children=(Label(value='x', layout=Layout(width='15%')), IntSlider(value=0, description='in…"
      ]
     },
     "metadata": {},
     "output_type": "display_data"
    }
   ],
   "source": [
    "stacked_EDX.plot()"
   ]
  },
  {
   "cell_type": "markdown",
   "id": "5c619627-7022-425f-9577-4c774feb65be",
   "metadata": {},
   "source": [
    "## To plot the 1st tilt angle total smu EDX spectrum: \n",
    "#### If other tilt angles need to be viewed replace the 0 with the next index of the tilt angle."
   ]
  },
  {
   "cell_type": "code",
   "execution_count": 55,
   "id": "1f8f96c6",
   "metadata": {},
   "outputs": [],
   "source": [
    "stacked_EDX.inav[...,0].sum().plot(True)"
   ]
  },
  {
   "cell_type": "markdown",
   "id": "f1ef97ac",
   "metadata": {},
   "source": [
    "# <a id='X_ray_lines'></a> 5. X-ray intensity lines identification and selection for elemental map plotting\n"
   ]
  },
  {
   "cell_type": "code",
   "execution_count": 56,
   "id": "25f46198",
   "metadata": {},
   "outputs": [
    {
     "name": "stdout",
     "output_type": "stream",
     "text": [
      "Initial lines:    ['Fe_Ka', 'Fe_La', 'O_Ka', 'Zn_Ka', 'Zn_La']\n",
      "Final lines kept: ['Fe_Ka', 'O_Ka', 'Zn_Ka']\n",
      "Fe_La removed and Fe_Ka was kept\n",
      "Zn_La removed and Zn_Ka was kept\n",
      "\n"
     ]
    }
   ],
   "source": [
    "    #create a model of the 1st tilt angle in order to identify peaks\n",
    "    m=stacked_EDX.inav[...,0].sum().create_model()\n",
    "    #m.plot(True)   \n",
    "    elements=[]\n",
    "    \n",
    "    \n",
    "    for i in range(0, len(m.get_lines_intensity())): \n",
    "        variable_name = f\"elements_{i}\"\n",
    "        locals()[variable_name]=[]\n",
    "        variable_name1 = f\"elements_residue_{i}\"\n",
    "        \n",
    "        locals()[variable_name1]=[]\n",
    "        \n",
    "        element = m.get_lines_intensity()[i].metadata.General.title.split(' ')[2]\n",
    "        elements.append(element)\n",
    "#.......................................................................... \n",
    "#..........................................................................        \n",
    "\n",
    "    print(\"Initial lines:   \",elements)\n",
    "\n",
    "        # Priority mapping, higher number means higher priority\n",
    "    priority = {'Ka': 3, 'La': 2, 'Ma': 1}\n",
    "\n",
    "        # Dictionary to hold the highest priority lines for each element\n",
    "    highest_priority_lines = {}\n",
    "\n",
    "        # List to track removed lines for reporting\n",
    "    removed_lines = []\n",
    "    removed_Xlines= []\n",
    "    for line in elements:\n",
    "            element = line.split('_')[0]\n",
    "            line_type = line.split('_')[1]\n",
    "\n",
    "            if element in highest_priority_lines:\n",
    "                # Compare priorities and update if current line has higher priority\n",
    "                current_priority = priority[line_type]\n",
    "                existing_line = highest_priority_lines[element]\n",
    "                existing_priority = priority[existing_line.split('_')[1]]\n",
    "                if current_priority > existing_priority:\n",
    "                    highest_priority_lines[element] = line\n",
    "                    removed_lines.append(f\"{existing_line} removed and {line} was kept\")\n",
    "                    removed_Xlines.append(existing_line)\n",
    "\n",
    "                elif current_priority < existing_priority:\n",
    "                    # Current line has lower priority and is not added, so it's effectively removed\n",
    "                    removed_lines.append(f\"{line} removed and {existing_line} was kept\")\n",
    "                    removed_Xlines.append(line)\n",
    "\n",
    "            else:\n",
    "                # Add the new element with its line\n",
    "                highest_priority_lines[element] = line\n",
    "\n",
    "        # Extract the values which are the lines with the highest energy\n",
    "    desired_elements = list(highest_priority_lines.values())          \n",
    "    print(\"Final lines kept:\", desired_elements)\n",
    "        #print(\"Changes made:\")\n",
    "    for change in removed_lines:\n",
    "        print(change) \n",
    "    print(\"\")"
   ]
  },
  {
   "cell_type": "markdown",
   "id": "535734a0",
   "metadata": {},
   "source": [
    "# <a id='element_of_interest'></a> 6. select an X-ray line of an element to plot the elemental maps:\n",
    "# -----------------------------------------------------------------------------"
   ]
  },
  {
   "cell_type": "code",
   "execution_count": 57,
   "id": "a450d19a",
   "metadata": {},
   "outputs": [],
   "source": [
    "#insert the element you want for the elmental map, which can be one of the element in the \" Final lines kept\" array above.\n",
    "element_of_interest=\"Zn_Ka\"  #<<<<<<<<\n"
   ]
  },
  {
   "cell_type": "markdown",
   "id": "a4bcc843",
   "metadata": {},
   "source": [
    "# -----------------------------------------------------------------------------"
   ]
  },
  {
   "cell_type": "code",
   "execution_count": 58,
   "id": "ed501cd5",
   "metadata": {},
   "outputs": [
    {
     "name": "stdout",
     "output_type": "stream",
     "text": [
      "Elemental map for Zn_Ka will be plotted for x-rays in the energy range between 8.2 KeV and 9.1 KeV\n"
     ]
    }
   ],
   "source": [
    "# Get the fitted signal\n",
    "fitted_data = m.as_signal()\n",
    "\n",
    "# Get the energy axis (x-axis)\n",
    "energy_axis = stacked_EDX.inav[...,0].sum().axes_manager[0].axis\n",
    "\n",
    "# Initialize dictionaries to store peak positions and residues\n",
    "peak_positions = {}\n",
    "individual_residues = {}\n",
    "individual_linear_residues = {}\n",
    "\n",
    "# Automatically extract peak positions from the model components\n",
    "for component_name in dir(m.components):\n",
    "    if not component_name.startswith('_'):  # Ignore private attributes\n",
    "        component = getattr(m.components, component_name)\n",
    "        if hasattr(component, 'centre'):\n",
    "            peak_positions[component_name] = component.centre.value\n",
    "\n",
    "# Define function to calculate peak window based on energy\n",
    "def get_peak_window(energy):\n",
    "    min_energy, max_energy = min(peak_positions.values()), max(peak_positions.values())\n",
    "    min_window, max_window = 0.052, 0.5\n",
    "    \n",
    "    # Linear interpolation\n",
    "    window = min_window + (energy - min_energy) * (max_window - min_window) / (max_energy - min_energy)\n",
    "    return np.clip(window, min_window, max_window)\n",
    "found=0\n",
    "# Loop over each desired element/peak\n",
    "for element in desired_elements:\n",
    "    if element in peak_positions and element==element_of_interest:\n",
    "        found=1\n",
    "        peak_position = peak_positions[element]\n",
    "        \n",
    "        # Calculate peak window based on the peak position\n",
    "        peak_window = get_peak_window(peak_position)\n",
    "\n",
    "        # Create a mask to isolate the region of the peak on the energy axis\n",
    "        peak_region_mask = (energy_axis >= peak_position - peak_window) & (energy_axis <= peak_position + peak_window)\n",
    "        \n",
    "        # Get the original and fitted data for this region\n",
    "        original_peak_data = stacked_EDX.inav[...,0].sum().data[peak_region_mask]\n",
    "        fitted_peak_data = fitted_data.data[peak_region_mask]\n",
    "        \n",
    "        # Calculate the squared and linear residues for this peak\n",
    "        peak_residues = np.sum((original_peak_data - fitted_peak_data)**2)\n",
    "        peak_abs_linear_residues = np.sum(np.abs(original_peak_data - fitted_peak_data))\n",
    "        peak_linear_residues = np.sum(original_peak_data - fitted_peak_data)\n",
    "\n",
    "        # Store the results in dictionaries for each peak\n",
    "        individual_residues[element] = peak_residues\n",
    "        individual_linear_residues[element] = peak_linear_residues\n",
    "\n",
    "        # Print or store the % residue for this peak\n",
    "        E_start= \"{:.1f}\".format(peak_position-peak_window)\n",
    "        E_end=   \"{:.1f}\".format(peak_position+peak_window)\n",
    "        print(f\"Elemental map for {element} will be plotted for x-rays in the energy range between {E_start} KeV and {E_end} KeV\")\n",
    "        #print(E_start)\n",
    "        #print(E_end)\n",
    "\n",
    "if found==0:        \n",
    "        print(f\"{element_of_interest} not found in the model, make sure name is correct or insert the energy range manually below\")\n",
    "\n",
    "\n",
    "\n",
    "# Print all extracted peak positions for verification\n",
    "\n",
    "#print(\"\\nExtracted Peak Positions:\")\n",
    "#for element, position in peak_positions.items():\n",
    "#    print(f\"{element}: {position:.4f} keV\")\n"
   ]
  },
  {
   "cell_type": "markdown",
   "id": "16d034ed",
   "metadata": {},
   "source": [
    "### If the energy range of the element of interest is not accurate, remove the '#' sign at the start of the 2 lines below and insert the dimensions manually:"
   ]
  },
  {
   "cell_type": "code",
   "execution_count": 59,
   "id": "a1a7d8e4",
   "metadata": {},
   "outputs": [
    {
     "name": "stdout",
     "output_type": "stream",
     "text": [
      "Elemental map for Zn_Ka will be plotted for x-rays in the energy range between 8.2 KeV and 9.1 KeV\n"
     ]
    }
   ],
   "source": [
    "#E_start= 5.0    #<<<< you need to add the . sign after the digit, e.g. type 5.0 instead of 5 for energy value of 5 KeV\n",
    "#E_end=   6.0\n",
    "print(f\"Elemental map for {element} will be plotted for x-rays in the energy range between {E_start} KeV and {E_end} KeV\")\n"
   ]
  },
  {
   "cell_type": "markdown",
   "id": "4c851368-ad21-482b-a4f6-88eb7d2d222d",
   "metadata": {},
   "source": [
    "### Below the elemental map will be saved in 2 formats:\n",
    "### 1- PNG with scale bar(data is compressed)\n",
    "### 2- TIF format with no scale bar (suitable for further dataprocessing)"
   ]
  },
  {
   "cell_type": "code",
   "execution_count": 66,
   "id": "bed7b147-7be9-4822-a403-75cb53e0ce3b",
   "metadata": {},
   "outputs": [
    {
     "name": "stdout",
     "output_type": "stream",
     "text": [
      "Elemental map for Zn_Ka is saved in TIF and PNG format for EDX_Tomo_TiltAngle_ (1).png\n",
      "Elemental map for Zn_Ka is saved in TIF and PNG format for EDX_Tomo_TiltAngle_ (2).png\n",
      "Done ................................ !!\n"
     ]
    }
   ],
   "source": [
    "\n",
    "for i in range(0, s_dim):\n",
    "    elemental_map = stacked_EDX.inav[..., i].deepcopy()\n",
    "    elemental_map.crop(axis=2, start=float(E_start), end=float(E_end))\n",
    "\n",
    "    edx_map_nmf = np.sum(elemental_map.data, axis=2)\n",
    "\n",
    "    # Create a figure for the TIF image without any decorations\n",
    "    fig_tif, ax_tif = plt.subplots(figsize=(6, 6))\n",
    "    ax_tif.imshow(edx_map_nmf, cmap='viridis')\n",
    "    ax_tif.axis('off')\n",
    "    plt.tight_layout()\n",
    "    plt.savefig(f'Zn_Ka elemental map in TIF format for {names[i]}.tif', bbox_inches='tight', pad_inches=0)\n",
    "    plt.close(fig_tif)\n",
    "    \n",
    "    def add_scale_bar(ax, data_shape):\n",
    "        pixel_size = HAADF.axes_manager[0].scale  # nm/pixel\n",
    "        desired_scale_bar_length_nm = round((data_shape[1] * pixel_size) / 4)  # nm\n",
    "        scale_bar_length_px = int(desired_scale_bar_length_nm / pixel_size)\n",
    "    \n",
    "        # Coordinates for the scale bar (position in pixels on the image)\n",
    "        scale_bar_start = HAADF.data.shape[0]* 0.1         #<<<<< scale bar to coordinate\n",
    "        scale_bar_end = HAADF.data.shape[1] * 0.93         #<<<<< scale bar to coordinate \n",
    "    \n",
    "        # Add the scale bar\n",
    "        ax.plot([scale_bar_start, scale_bar_start + scale_bar_length_px], \n",
    "                [scale_bar_end, scale_bar_end], \n",
    "                'w-', linewidth=2)\n",
    "        \n",
    "        # Add the scale bar label\n",
    "        ax.text(scale_bar_start, scale_bar_end - 5, \n",
    "                f'{desired_scale_bar_length_nm} nm', \n",
    "                color='white', fontsize=8, ha='left', va='bottom')\n",
    "\n",
    "\n",
    "    \n",
    "    # Create a figure for the PNG image with all decorations\n",
    "    fig_png, ax_png = plt.subplots(figsize=(6, 6))\n",
    "    im1 = ax_png.imshow(edx_map_nmf, cmap='viridis')\n",
    "    ax_png.set_title(f\"Elemental map of {element_of_interest} after PCA-NMF\")\n",
    "    ax_png.axis('off')\n",
    "    \n",
    "\n",
    "    # Add scale bar and colorbar for PNG image\n",
    "    add_scale_bar(ax_png, edx_map_nmf.shape)\n",
    "    plt.colorbar(im1, ax=ax_png, fraction=0.046, pad=0.04, format='%.1f')\n",
    "\n",
    "    # Save the plot as a PNG image with scale bar\n",
    "    plt.savefig(f'Zn_Ka elemental map with scale bar for {names[i]}.png', dpi=300, bbox_inches='tight', pad_inches=0.1)\n",
    "\n",
    "    # Close the figure to free up memory\n",
    "    plt.close(fig_png)\n",
    "\n",
    "    print(f\"Elemental map for Zn_Ka is saved in TIF and PNG format for {names[i]}.png\")\n",
    "\n",
    "print(\"Done ................................ !!\")\n"
   ]
  },
  {
   "cell_type": "code",
   "execution_count": null,
   "id": "c776d100-80f0-4a3f-a680-ca0bdb285ca8",
   "metadata": {},
   "outputs": [],
   "source": []
  }
 ],
 "metadata": {
  "kernelspec": {
   "display_name": "Python 3 (ipykernel)",
   "language": "python",
   "name": "python3"
  },
  "language_info": {
   "codemirror_mode": {
    "name": "ipython",
    "version": 3
   },
   "file_extension": ".py",
   "mimetype": "text/x-python",
   "name": "python",
   "nbconvert_exporter": "python",
   "pygments_lexer": "ipython3",
   "version": "3.9.12"
  }
 },
 "nbformat": 4,
 "nbformat_minor": 5
}
