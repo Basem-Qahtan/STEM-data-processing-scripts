{
 "cells": [
  {
   "cell_type": "markdown",
   "id": "30698e3b-40b4-43ea-a31a-77c19a4d5a4b",
   "metadata": {},
   "source": [
    "## This script can be found on [GitHub](https://github.com/Basem-Qahtan/STEM-data-processing-scripts) along with other scripts for STEM data processing algorithms.\n",
    "\n",
    "##### --------------------------------------------------------------------------------------------------------------------------------------------\n",
    "# STEM-Cathodlumensence datasets  \n",
    "\n",
    "Cathodlumensence (CL) data aquisition in TEM is used in applications such as LEDs to collect information on the wavelength of the emitted photons from quantum wells for example. in some cases, the sample is the electron beam with a short dewll time to avoid sample's movement. However, this will result in a lo signal to noise ratio (SNR). This notebook increases the SNR of a noisy CL datasets through the Principal component analysis (PCA) denoising.\n",
    "\n",
    "\n",
    "## Author\n",
    "\n",
    "* 15/12/2024 Basem Qahtan - Developed as part of a Ph.D. research at the Italian Institue of Technology (iit)/ University of Genoa (uniGe) in italy and KAUST university in KSA.\n",
    "## Changes\n",
    "\n",
    "* 15/10/2024 Update: Added auto cropping and rebinning of EDX map prior to the principal component analysis (PCA) denoising.\n",
    "* 10/11/2024 Update: Removal of negative signals and high intense signals at rnadom pixels (artifacts). \n",
    "* 30/06/2025 Update: Added the option to use spikes_diagnosis() function by lumispy to remove signal spikes if needed. \n",
    "\n",
    "\n",
    "## Requirements\n",
    "\n",
    "* HyperSpy 1.7.4 or higher\n",
    "\n",
    "## <a id='top'></a> Contents\n",
    "\n",
    "1. <a href='#dat'> Specimen & Data</a>\n",
    "2. <a href='#load'> Load the CL data</a>\n",
    "3. <a href='#crop'> Crop negative values and cap the intensity of pixels with extreme intensity (if needed)</a>\n",
    "4. <a href='#pca'> Apply PCA decomposition on the CL map </a>\n",
    "5. <a href='#save'> Save the denoised CL dataset in hspy format</a>\n",
    "\n",
    "\n",
    "# <a id='dat'></a> 1. Specimen & Data\n",
    "\n",
    "Samples used in this example were test data as shown i figure 1 below with high noise (left)"
   ]
  },
  {
   "cell_type": "markdown",
   "id": "8ca5bc58-6a1d-4205-88ca-40512a181da3",
   "metadata": {},
   "source": [
    "<img src=\"images/CL data PCA denoising.png\" style=\"height:400px;\">\n",
    "Figure 1: Reconstructed Cathodlumenscence (CL) data after PCA denoising resulting in an enhanced Signal to noise ratio (SNR).\n"
   ]
  },
  {
   "cell_type": "markdown",
   "id": "6558d0ac",
   "metadata": {},
   "source": [
    "## Import required libraries"
   ]
  },
  {
   "cell_type": "code",
   "execution_count": 28,
   "id": "b79b9049",
   "metadata": {},
   "outputs": [],
   "source": [
    "%matplotlib qt\n",
    "import hyperspy.api as hs\n",
    "import numpy as np\n",
    "import scipy.misc\n",
    "import scipy\n",
    "import matplotlib.pyplot as plt\n",
    "import os\n",
    "import re\n"
   ]
  },
  {
   "cell_type": "markdown",
   "id": "9ef4cdba",
   "metadata": {},
   "source": [
    "# <a id='load'></a> 2. Load the CL data\n"
   ]
  },
  {
   "cell_type": "code",
   "execution_count": 29,
   "id": "2a712029",
   "metadata": {},
   "outputs": [
    {
     "name": "stdout",
     "output_type": "stream",
     "text": [
      "Sample name: PCA_TestData_03_RedBlue_5kV_HighNoise\n",
      "CL map: Found\n",
      "------------------------------------------------------\n"
     ]
    }
   ],
   "source": [
    "# Specify the directory path\n",
    "directory = os.getcwd()\n",
    "\n",
    "# Get a list of files in the directory\n",
    "file_list = os.listdir(directory)\n",
    "\n",
    "# Filter files with the .emd or .bcf extension, you may add your file extension here if it is different.\n",
    "emd_files = [file for file in file_list if file.endswith(\".emd\") or file.endswith(\".bcf\") or file.endswith(\".dm4\")]\n",
    "\n",
    "def extract_number(filename):\n",
    "    # Extract the number from the filename using regex\n",
    "    match = re.search(r'\\((\\d+)\\)', filename)\n",
    "    if match:\n",
    "        return int(match.group(1))\n",
    "    return 0  # Return 0 if no number is found\n",
    "\n",
    "# Sort the list using the custom key function\n",
    "sorted_emd_files = sorted(emd_files, key=extract_number)\n",
    "\n",
    "intitial_k = []\n",
    "dynamic_K = []\n",
    "\n",
    "# Load and process the .emd files using Hyperspy\n",
    "for file in sorted_emd_files:\n",
    "    # Construct the full file path\n",
    "    file_path = os.path.join(directory, file)\n",
    "    \n",
    "    # Load the file using Hyperspy\n",
    "    SI = hs.load(file_path)  \n",
    "\n",
    "    # Split the string based on the '.' delimiter\n",
    "    name = file.split('.')[0]\n",
    "\n",
    "    CL_found = False\n",
    "    HAADF = None\n",
    "    EDS = None\n",
    "    CL = None\n",
    "\n",
    "    # Check if SI is a list (subscriptable) or a single signal\n",
    "    if isinstance(SI, list):\n",
    "        for i, signal in enumerate(SI):\n",
    "            if signal.metadata.General.title == 'HAADF':\n",
    "                HAADF = signal\n",
    "                HAADFindex = i\n",
    "            elif signal.metadata.General.title in (\"EDS\", \"EDX\"):\n",
    "                if signal.data.ndim == 3:  # Ensure it has three dimensions\n",
    "                    EDS = signal\n",
    "                    EDSindex = i\n",
    "            elif signal.metadata.General.title == 'CLSpectrum' or signal.metadata.Signal.signal_type==\"CL\":\n",
    "                CL = signal\n",
    "                CL_found = True\n",
    "    else:\n",
    "        # SI is a single signal\n",
    "        if SI.metadata.General.title == 'HAADF':\n",
    "            HAADF = SI\n",
    "        elif SI.metadata.General.title in (\"EDS\", \"EDX\"):\n",
    "            if SI.data.ndim == 3:\n",
    "                EDS = SI\n",
    "        elif SI.metadata.General.title == 'CLSpectrum' or SI.metadata.Signal.signal_type==\"CL\":\n",
    "            CL = SI\n",
    "            CL_found = True\n",
    "\n",
    "    if CL_found == False: \n",
    "        print(\"CL map is not found in the dataset \")\n",
    "\n",
    "    # Print the extracted values\n",
    "    print(\"Sample name:\", name)\n",
    "  #  print(\"HAADF:\", \"Found\" if HAADF is not None else \"Not found\")\n",
    "  #  print(\"EDX:\", \"Found\" if EDS is not None else \"Not found\")\n",
    "    print(\"CL map:\", \"Found\" if CL is not None else \"Not found in the dataset (Cant continue the processing of CL data using this script)\")\n",
    "    print(\"------------------------------------------------------\")\n"
   ]
  },
  {
   "cell_type": "code",
   "execution_count": 30,
   "id": "dd869bf6",
   "metadata": {},
   "outputs": [],
   "source": [
    "# check the varibale CL contains the SI dataset\n",
    "\n",
    "#CL.metadata"
   ]
  },
  {
   "cell_type": "markdown",
   "id": "e56a4f36-6501-4722-8805-427fc1742842",
   "metadata": {},
   "source": [
    "#### When plotting the signal below: if you cant use the keyboard arrows to navigate through the signal or navigation axes, try to drag the small red square (shown in figure 2 below in the top left corner of the CL map) by holding the right click on the mouse "
   ]
  },
  {
   "cell_type": "code",
   "execution_count": 31,
   "id": "8ae8e213",
   "metadata": {},
   "outputs": [],
   "source": [
    "CL.plot()"
   ]
  },
  {
   "cell_type": "markdown",
   "id": "0d259638",
   "metadata": {},
   "source": [
    "# <a id='crop'></a> 3. Crop negative values and remove any spikes (if needed)\n",
    "\n",
    "<img src=\"images/high intensity capping in CL data.png\" style=\"height:400px;\">\n",
    "Figure 2: Cropping wavelengths counts with extremly high intensities (due to artifacts) as it will affect the components in PCA.\n",
    "\n",
    "\n",
    "## 2 options can be selected: \n",
    "### 1- Spikes_diagnosis() function by lumispy \n",
    "### 2- Average of the top 30 intensities\n",
    "\n",
    "## User can switch between the 2 methods to assess the result (original signal will not be affected until moving to the next step)\n",
    "#### ----------------------------------------------------------------------------------------------------------------"
   ]
  },
  {
   "cell_type": "markdown",
   "id": "b8be9f11",
   "metadata": {},
   "source": [
    "# 1- Rmoving spikes using spikes_diagnosis() function by lumispy in HyperSpy"
   ]
  },
  {
   "cell_type": "code",
   "execution_count": 35,
   "id": "05c66b6f",
   "metadata": {},
   "outputs": [
    {
     "name": "stderr",
     "output_type": "stream",
     "text": [
      "WARNING:hyperspy.misc.hist_tools:Estimated number of bins using `bins='fd'` is too large (4198). Capping the number of bins at `max_num_bins=250`. Consider using an alternative method for calculating the bins such as `bins='scott'`, or increasing the value of the `max_num_bins` keyword argument.\n"
     ]
    }
   ],
   "source": [
    "CL_copy=CL.deepcopy()\n",
    "# Step 1: Run diagnosis to determine threshold\n",
    "CL_copy.spikes_diagnosis()  # Check the derivative histogram's first zero-crossing (e.g., 10)\n",
    "\n",
    "# Step 2: Remove spikes using the observed threshold\n",
    "CL_copy.spikes_removal_tool(threshold=200, interactive=False)\n",
    "CL_data_clipped=CL_copy\n",
    "CL_data_clipped.plot()"
   ]
  },
  {
   "cell_type": "markdown",
   "id": "7dc1b5cf",
   "metadata": {},
   "source": [
    "# 2- Rmoving spikes using the average of the top 30 Intensities\n",
    "### If the spikes_diagnosis() function above didnt remove the spikes in the CL dataset, try capping the max signal intiensity based on the average of the top 30 conunts:"
   ]
  },
  {
   "cell_type": "code",
   "execution_count": 20,
   "id": "cea22191",
   "metadata": {},
   "outputs": [],
   "source": [
    "CL_copy=CL.deepcopy()\n",
    "# Assuming you've already calculated max_intensities\n",
    "max_intensities = np.max(CL_copy.data, axis=2)\n",
    "\n",
    "# Get the indices of the top 50 intensity values\n",
    "top_30_indices = np.argpartition(max_intensities.flatten(), -30)[-30:]\n",
    "\n",
    "# Get the actual top 50 intensity values\n",
    "top_30_intensities = max_intensities.flatten()[top_30_indices]\n",
    "\n",
    "# Sort the top 50 intensities in descending order\n",
    "top_30_intensities_sorted = np.sort(top_30_intensities)[::-1]"
   ]
  },
  {
   "cell_type": "code",
   "execution_count": 21,
   "id": "38d15120",
   "metadata": {},
   "outputs": [
    {
     "data": {
      "text/plain": [
       "array([14050.088  ,  2956.1416 ,   388.51495,   366.3483 ,   364.37494,\n",
       "         342.3483 ,   334.0616 ,   321.13828,   319.94827,   318.76495,\n",
       "         315.18164,   312.97836,   311.76495,   307.18158,   306.5616 ,\n",
       "         305.68158,   305.30496,   300.93164,   295.59827,   294.43158,\n",
       "         293.8483 ,   289.84824,   283.13828,   281.395  ,   281.3483 ,\n",
       "         279.05496,   278.9316 ,   277.76495,   273.0983 ,   272.72165],\n",
       "      dtype=float32)"
      ]
     },
     "execution_count": 21,
     "metadata": {},
     "output_type": "execute_result"
    }
   ],
   "source": [
    "# check the highest intensity counts in the top 30 pixels\n",
    "top_30_intensities_sorted"
   ]
  },
  {
   "cell_type": "code",
   "execution_count": 22,
   "id": "d449aef0",
   "metadata": {},
   "outputs": [
    {
     "data": {
      "text/plain": [
       "854.2831"
      ]
     },
     "execution_count": 22,
     "metadata": {},
     "output_type": "execute_result"
    }
   ],
   "source": [
    "# cap the max intensity across the CL map based on the mean value below:\n",
    "top_30_intensities_sorted.mean()"
   ]
  },
  {
   "cell_type": "code",
   "execution_count": 25,
   "id": "1033681d",
   "metadata": {},
   "outputs": [],
   "source": [
    "CL_data_clipped = np.clip(CL, a_min= None,a_max=top_30_intensities_sorted.mean())#None   #top_50_intensities_sorted.mean()\n",
    "CL_data_clipped.plot()"
   ]
  },
  {
   "cell_type": "markdown",
   "id": "32b94396",
   "metadata": {},
   "source": [
    "# Removing negative axis values in the CL datasets (if needed)\n",
    "###  Negative values in CL datasets are due to background subtraction, it is better to keep these values but if needed they can be removed to avoid their effect on the PCA denoising output"
   ]
  },
  {
   "cell_type": "code",
   "execution_count": 36,
   "id": "4d093de3",
   "metadata": {},
   "outputs": [],
   "source": [
    "# Assuming 'cl_data' is your 3D CL dataset\n",
    "CL_data_clipped = np.clip(CL_data_clipped, a_min=0, a_max=None) #None   #top_50_intensities_sorted.mean()"
   ]
  },
  {
   "cell_type": "code",
   "execution_count": 37,
   "id": "85bdc37e",
   "metadata": {},
   "outputs": [],
   "source": [
    "#check the CL map after cropping negative / high intensity counts:\n",
    "CL_data_clipped.plot()"
   ]
  },
  {
   "cell_type": "markdown",
   "id": "89135740",
   "metadata": {},
   "source": [
    "# <a id='pca'></a> 4. Apply PCA decomposition on the CL map\n",
    "\n",
    "<img src=\"images/PCA on CL data.png\" style=\"height:450px;\">\n",
    "Figure 3: Cropping wavelengths counts with extremly high intensities (due to artifacts) as it will affect the components in PCA.\n"
   ]
  },
  {
   "cell_type": "code",
   "execution_count": 38,
   "id": "c85f4dd8",
   "metadata": {},
   "outputs": [
    {
     "name": "stdout",
     "output_type": "stream",
     "text": [
      "Decomposition info:\n",
      "  normalize_poissonian_noise=False\n",
      "  algorithm=SVD\n",
      "  output_dimension=None\n",
      "  centre=None\n"
     ]
    }
   ],
   "source": [
    "CL_data_clipped.change_dtype(\"float32\")\n",
    "\n",
    "CL_data_clipped.decomposition()"
   ]
  },
  {
   "cell_type": "markdown",
   "id": "0a61ebd2",
   "metadata": {},
   "source": [
    "## Plot the scree plot and the individual components:\n",
    "\n",
    "#### After plotting the decomposition results below: if you cant navigate between the components using the keyboard arrows, use the slider bar opened in 3rd smal window or in the notebook itself as shown in figure 4 below."
   ]
  },
  {
   "cell_type": "code",
   "execution_count": 39,
   "id": "6f8f3dfc",
   "metadata": {},
   "outputs": [
    {
     "data": {
      "application/vnd.jupyter.widget-view+json": {
       "model_id": "8e78d38da2c54c35858bd8ab0097ce05",
       "version_major": 2,
       "version_minor": 0
      },
      "text/plain": [
       "VBox(children=(HBox(children=(Label(value='Decomposition component index', layout=Layout(width='15%')), IntSli…"
      ]
     },
     "metadata": {},
     "output_type": "display_data"
    },
    {
     "data": {
      "text/plain": [
       "<Axes: title={'center': 'PCA_TestData_03_RedBlue_5kV_HighNoise\\nPCA Scree Plot'}, xlabel='Principal component index', ylabel='Proportion of variance'>"
      ]
     },
     "execution_count": 39,
     "metadata": {},
     "output_type": "execute_result"
    }
   ],
   "source": [
    "CL_data_clipped.plot_decomposition_results()\n",
    "CL_data_clipped.plot_explained_variance_ratio()"
   ]
  },
  {
   "cell_type": "markdown",
   "id": "37625f5f-ecfc-4315-8e47-f18c44c6651a",
   "metadata": {},
   "source": [
    "<img src=\"images/slider bar.png\" style=\"height:450px;\">\n",
    "Figure 4: Alternative option to cycle beween the PCA components if keyboard arrows or bindings doesnt work"
   ]
  },
  {
   "cell_type": "markdown",
   "id": "b8f22acc",
   "metadata": {},
   "source": [
    "## Select the number of components to be used in reconstructing the CL map:\n",
    "\n",
    "#### If you want to use the first 4 components you can type:\n",
    "###### CLdata =cl_data_clipped.get_decomposition_model(4)\n",
    "##### --------------------------------------------------------------------------------------------------\n",
    "#### If you want to use the 1st, 2nd and 4th components you can type:\n",
    "###### CLdata =cl_data_clipped.get_decomposition_model([0,1,3])   >>>> numbering starts from 0"
   ]
  },
  {
   "cell_type": "code",
   "execution_count": 40,
   "id": "ee02c2da",
   "metadata": {},
   "outputs": [],
   "source": [
    "CLdata=CL_data_clipped.get_decomposition_model(2)"
   ]
  },
  {
   "cell_type": "code",
   "execution_count": 41,
   "id": "01f0481b",
   "metadata": {},
   "outputs": [
    {
     "data": {
      "text/plain": [
       "<CLSpectrum, title: PCA_TestData_03_RedBlue_5kV_HighNoise model from decomposition with 2 components, dimensions: (50, 50|167)>"
      ]
     },
     "execution_count": 41,
     "metadata": {},
     "output_type": "execute_result"
    }
   ],
   "source": [
    "CLdata"
   ]
  },
  {
   "cell_type": "code",
   "execution_count": 42,
   "id": "00a51a02",
   "metadata": {},
   "outputs": [],
   "source": [
    "CLdata.plot()"
   ]
  },
  {
   "cell_type": "code",
   "execution_count": 43,
   "id": "78a59f61",
   "metadata": {},
   "outputs": [
    {
     "data": {
      "text/plain": [
       "<CLSpectrum, title: PCA_TestData_03_RedBlue_5kV_HighNoise model from decomposition with 2 components, dimensions: (50, 50|167)>"
      ]
     },
     "execution_count": 43,
     "metadata": {},
     "output_type": "execute_result"
    }
   ],
   "source": [
    "CLdata"
   ]
  },
  {
   "cell_type": "code",
   "execution_count": 44,
   "id": "c078c989",
   "metadata": {},
   "outputs": [
    {
     "data": {
      "text/plain": [
       "<CLSpectrum, title: PCA_TestData_03_RedBlue_5kV_HighNoise model from decomposition with 2 components, dimensions: (|167)>"
      ]
     },
     "execution_count": 44,
     "metadata": {},
     "output_type": "execute_result"
    }
   ],
   "source": [
    "CL2=CLdata.inav[32,47]\n",
    "CL2"
   ]
  },
  {
   "cell_type": "code",
   "execution_count": 45,
   "id": "41cd3230",
   "metadata": {},
   "outputs": [
    {
     "data": {
      "text/plain": [
       "<CLSpectrum, title: PCA_TestData_03_RedBlue_5kV_HighNoise model from decomposition with 2 components, dimensions: (|167)>"
      ]
     },
     "execution_count": 45,
     "metadata": {},
     "output_type": "execute_result"
    }
   ],
   "source": [
    "CL1=CLdata.inav[25,22]\n",
    "CL1\n"
   ]
  },
  {
   "cell_type": "code",
   "execution_count": 46,
   "id": "f76ad9fb",
   "metadata": {},
   "outputs": [],
   "source": [
    "import matplotlib.pyplot as plt\n",
    "\n",
    "# Assuming CL1 and CL2 are HyperSpy signals with the same signal dimension (e.g., spectra)\n",
    "\n",
    "# Extract the signal data arrays (intensity vs channel/wavelength)\n",
    "x1 = CL1.axes_manager.signal_axes[0].axis  # e.g., wavelength or energy axis for CL1\n",
    "y1 = CL1.data\n",
    "\n",
    "x2 = CL2.axes_manager.signal_axes[0].axis  # axis for CL2\n",
    "y2 = CL2.data\n",
    "\n",
    "plt.figure(figsize=(8,5))\n",
    "plt.plot(x1, y1, label='CL1', color='blue')\n",
    "plt.plot(x2, y2, label='CL2', color='red')\n",
    "\n",
    "plt.xlabel(\"Wavelength axis (nm)\", fontsize=16)  # e.g., 'Wavelength (nm)'\n",
    "plt.ylabel('Intensity (Counts)', fontsize=16)\n",
    "plt.title('Comparison of CL1 and CL2 Spectra')\n",
    "plt.legend()\n",
    "plt.grid(True)\n",
    "plt.show()\n"
   ]
  },
  {
   "cell_type": "markdown",
   "id": "1346cca6",
   "metadata": {},
   "source": [
    "# <a id='save'></a> 5. Save the denoised CL dataset in hspy format\n"
   ]
  },
  {
   "cell_type": "code",
   "execution_count": 51,
   "id": "a0b8a3d3",
   "metadata": {},
   "outputs": [
    {
     "name": "stdout",
     "output_type": "stream",
     "text": [
      "Overwrite 'C:\\Users\\bqahtan\\Desktop\\2022\\KAUST Projects\\3 CL datasets\\PCA_TestData_03_RedBlue_5kV_HighNoise  (PCA denoised).hspy' (y/n)?\n",
      "y\n"
     ]
    }
   ],
   "source": [
    "CLdata.save(name+\"  (PCA denoised).hspy\")\n"
   ]
  }
 ],
 "metadata": {
  "kernelspec": {
   "display_name": "Python 3 (ipykernel)",
   "language": "python",
   "name": "python3"
  },
  "language_info": {
   "codemirror_mode": {
    "name": "ipython",
    "version": 3
   },
   "file_extension": ".py",
   "mimetype": "text/x-python",
   "name": "python",
   "nbconvert_exporter": "python",
   "pygments_lexer": "ipython3",
   "version": "3.9.12"
  }
 },
 "nbformat": 4,
 "nbformat_minor": 5
}
